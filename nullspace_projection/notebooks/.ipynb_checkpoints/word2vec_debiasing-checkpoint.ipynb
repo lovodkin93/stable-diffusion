{
 "cells": [
  {
   "cell_type": "code",
   "execution_count": 73,
   "metadata": {},
   "outputs": [],
   "source": [
    "import sys\n",
    "sys.path.append(\"../src\")\n",
    "sys.path.append(\"../data/embeddings\")\n",
    "import classifier\n",
    "import svm_classifier\n",
    "import debias\n",
    "import gensim\n",
    "from gensim.models.keyedvectors import Word2VecKeyedVectors\n",
    "from gensim.models import KeyedVectors\n",
    "import numpy as np\n",
    "import random\n",
    "import sklearn\n",
    "from sklearn import model_selection\n",
    "from sklearn import cluster\n",
    "from sklearn import metrics\n",
    "from sklearn.manifold import TSNE\n",
    "from sklearn.svm import LinearSVC, SVC\n",
    "from sklearn.neural_network import MLPClassifier\n",
    "\n",
    "import matplotlib\n",
    "import matplotlib.pyplot as plt\n",
    "%matplotlib inline\n",
    "matplotlib.rcParams['agg.path.chunksize'] = 10000"
   ]
  },
  {
   "cell_type": "code",
   "execution_count": 74,
   "metadata": {},
   "outputs": [],
   "source": [
    "def tsne_by_gender(vecs, labels):\n",
    "\n",
    "  tsne = TSNE(n_components=2, random_state=0)\n",
    "  vecs_2d = tsne.fit_transform(vecs)\n",
    "\n",
    "  names = [\"class 1\", \"class 2\"]\n",
    "  plt.figure(figsize=(6, 5))\n",
    "  colors = 'r', 'b'\n",
    "  for i, c, label in zip(range(10), colors, names):\n",
    "    plt.scatter(vecs_2d[labels == i, 0], vecs_2d[labels == i, 1], c=c, label=label, alpha = 0.2)\n",
    "  plt.legend()\n",
    "  plt.show()\n",
    "  return vecs_2d"
   ]
  },
  {
   "cell_type": "markdown",
   "metadata": {},
   "source": [
    "### Data loading & processing"
   ]
  },
  {
   "cell_type": "code",
   "execution_count": 81,
   "metadata": {},
   "outputs": [],
   "source": [
    "def load_word_vectors(fname = \"../data/embeddings/vecs.filtered.txt\"):\n",
    "    \n",
    "    model = KeyedVectors.load_word2vec_format(fname, binary=False)\n",
    "    vecs = model.vectors\n",
    "    words = list(model.vocab.keys())\n",
    "    return model, vecs, words\n",
    "\n",
    "def project_on_gender_subspaces(gender_vector, model: Word2VecKeyedVectors):\n",
    "    \n",
    "    group1 = model.similar_by_vector(gender_vector, topn = 2000, restrict_vocab=None)\n",
    "    group2 = model.similar_by_vector(-gender_vector, topn = 2000, restrict_vocab=None)\n",
    "    \n",
    "    return group1, group2\n",
    "\n",
    "def get_vectors(word_list: list, model: Word2VecKeyedVectors):\n",
    "    \n",
    "    vecs = []\n",
    "    for w in word_list:\n",
    "        \n",
    "        vecs.append(model[w])\n",
    "    \n",
    "    vecs = np.array(vecs)\n",
    "    return vecs"
   ]
  },
  {
   "cell_type": "code",
   "execution_count": 82,
   "metadata": {},
   "outputs": [
    {
     "name": "stdout",
     "output_type": "stream",
     "text": [
      "('wizard', 'joker', 'journeymen', 'journeyman', 'elder_statesman', 'kingpins', 'wizardry', 'cult_hero', 'mastermind', 'kingpin')\n",
      "('pregnant', 'bra', 'femininity', 'hysterectomy', 'pregnancy', 'miscarried', 'midwife', 'double_mastectomy', 'breastfeed', 'feminine')\n"
     ]
    }
   ],
   "source": [
    "model, vecs, words = load_word_vectors(fname = \"../data/embeddings/vecs.filtered.txt\")\n",
    "model_gendered, _, _ = load_word_vectors(fname = \"../data/embeddings/vecs.gendered.txt\")\n",
    "gender_direction = model_gendered[\"man\"] - model_gendered[\"woman\"]\n",
    "\n",
    "masc_words_and_scores, fem_words_and_scores = project_on_gender_subspaces(gender_direction, model)\n",
    "masc_words, masc_scores = list(zip(*masc_words_and_scores))\n",
    "fem_words, fem_scores = list(zip(*fem_words_and_scores))\n",
    "\n",
    "masc_vecs, fem_vecs = get_vectors(masc_words, model), get_vectors(fem_words, model)\n",
    "\n",
    "print(masc_words[:10])\n",
    "print(fem_words[:10])"
   ]
  },
  {
   "cell_type": "markdown",
   "metadata": {},
   "source": [
    "### Perform train-dev-test split"
   ]
  },
  {
   "cell_type": "code",
   "execution_count": 84,
   "metadata": {},
   "outputs": [
    {
     "name": "stdout",
     "output_type": "stream",
     "text": [
      "Train size: 1680; Dev size: 720; Test size: 1600\n"
     ]
    }
   ],
   "source": [
    "X = np.concatenate((masc_vecs, fem_vecs), axis = 0)\n",
    "y_masc = np.zeros(masc_vecs.shape[0], dtype = int)\n",
    "y_fem = np.ones(fem_vecs.shape[0], dtype = int)\n",
    "y = np.concatenate((y_masc, y_fem))\n",
    "X_train_dev, X_test, y_train_dev, y_test = sklearn.model_selection.train_test_split(X, y, test_size = 0.4, random_state = 0)\n",
    "X_train, X_dev, Y_train, Y_dev = sklearn.model_selection.train_test_split(X_train_dev, y_train_dev, test_size = 0.3, random_state = 0)\n",
    "print(\"Train size: {}; Dev size: {}; Test size: {}\".format(X_train.shape[0], X_dev.shape[0], X_test.shape[0]))"
   ]
  },
  {
   "cell_type": "markdown",
   "metadata": {},
   "source": [
    "### Debias"
   ]
  },
  {
   "cell_type": "code",
   "execution_count": 87,
   "metadata": {
    "scrolled": true
   },
   "outputs": [
    {
     "name": "stdout",
     "output_type": "stream",
     "text": [
      "yay\n",
      "[LibLinear]Iteration 0, Accuracy: 1.0\n",
      "[LibLinear]Iteration 1, Accuracy: 0.8888888888888888\n",
      "[LibLinear]Iteration 2, Accuracy: 0.8333333333333334\n",
      "[LibLinear]Iteration 3, Accuracy: 0.8069444444444445\n",
      "[LibLinear]Iteration 4, Accuracy: 0.7527777777777778\n",
      "[LibLinear]Iteration 5, Accuracy: 0.6902777777777778\n",
      "[LibLinear]Iteration 6, Accuracy: 0.6611111111111111\n",
      "[LibLinear]Iteration 7, Accuracy: 0.6138888888888889\n",
      "[LibLinear]Iteration 8, Accuracy: 0.5597222222222222\n",
      "[LibLinear]Iteration 9, Accuracy: 0.5513888888888889\n",
      "[LibLinear]Iteration 10, Accuracy: 0.55\n",
      "[LibLinear]Iteration 11, Accuracy: 0.5361111111111111\n",
      "[LibLinear]Iteration 12, Accuracy: 0.5486111111111112\n",
      "[LibLinear]Iteration 13, Accuracy: 0.5138888888888888\n",
      "[LibLinear]Iteration 14, Accuracy: 0.5125\n",
      "[LibLinear]Iteration 15, Accuracy: 0.4777777777777778\n",
      "[LibLinear]Iteration 16, Accuracy: 0.48333333333333334\n",
      "[LibLinear]Iteration 17, Accuracy: 0.48333333333333334\n",
      "[LibLinear]Iteration 18, Accuracy: 0.4847222222222222\n",
      "[LibLinear]Iteration 19, Accuracy: 0.4986111111111111\n",
      "[LibLinear]Iteration 20, Accuracy: 0.5\n",
      "[LibLinear]Iteration 21, Accuracy: 0.5083333333333333\n",
      "[LibLinear]Iteration 22, Accuracy: 0.49583333333333335\n",
      "[LibLinear]Iteration 23, Accuracy: 0.5236111111111111\n",
      "[LibLinear]Iteration 24, Accuracy: 0.5111111111111111\n",
      "[LibLinear]Iteration 25, Accuracy: 0.5138888888888888\n",
      "[LibLinear]Iteration 26, Accuracy: 0.5458333333333333\n",
      "[LibLinear]Iteration 27, Accuracy: 0.5513888888888889\n",
      "[LibLinear]Iteration 28, Accuracy: 0.5388888888888889\n",
      "[LibLinear]Iteration 29, Accuracy: 0.5472222222222223\n",
      "[LibLinear]Iteration 30, Accuracy: 0.5458333333333333\n",
      "[LibLinear]Iteration 31, Accuracy: 0.5333333333333333\n",
      "[LibLinear]Iteration 32, Accuracy: 0.5305555555555556\n",
      "[LibLinear]Iteration 33, Accuracy: 0.5347222222222222\n",
      "[LibLinear]Iteration 34, Accuracy: 0.5361111111111111\n",
      "[LibLinear]Iteration 35, Accuracy: 0.5402777777777777\n",
      "[LibLinear]Iteration 36, Accuracy: 0.5\n",
      "[LibLinear]Iteration 37, Accuracy: 0.5388888888888889\n",
      "[LibLinear]Iteration 38, Accuracy: 0.5222222222222223\n",
      "[LibLinear]Iteration 39, Accuracy: 0.5138888888888888\n",
      "[LibLinear]Iteration 40, Accuracy: 0.5097222222222222\n",
      "[LibLinear]Iteration 41, Accuracy: 0.4875\n",
      "[LibLinear]Iteration 42, Accuracy: 0.49444444444444446\n",
      "[LibLinear]Iteration 43, Accuracy: 0.49722222222222223\n",
      "[LibLinear]Iteration 44, Accuracy: 0.5097222222222222\n",
      "[LibLinear]Iteration 45, Accuracy: 0.4777777777777778\n",
      "[LibLinear]Iteration 46, Accuracy: 0.46111111111111114\n",
      "[LibLinear]Iteration 47, Accuracy: 0.5041666666666667\n",
      "[LibLinear]Iteration 48, Accuracy: 0.45694444444444443\n",
      "[LibLinear]Iteration 49, Accuracy: 0.4777777777777778\n"
     ]
    }
   ],
   "source": [
    "classifier_class = svm_classifier.SVMClassifier\n",
    "num_classifiers = 50\n",
    "input_dim = 300\n",
    "is_autoregressive = True\n",
    "min_accuracy = 0.45\n",
    "\n",
    "P = debias.get_debiasing_projection(classifier_class, num_classifiers, input_dim, \n",
    "                                    is_autoregressive, min_accuracy, X_train, Y_train,\n",
    "                                    X_dev, Y_dev)"
   ]
  },
  {
   "cell_type": "code",
   "execution_count": null,
   "metadata": {},
   "outputs": [],
   "source": [
    "tsne_by_gender(X_train, Y_train)\n",
    "X_dev_cleaned = X_dev.dot(P)\n",
    "X_test_cleaned = X_test.dot(P)\n",
    "X_trained_cleaned = X_train.dot(P)\n",
    "tsne_projection = tsne_by_gender(X_trained_cleaned, Y_trained)"
   ]
  },
  {
   "cell_type": "code",
   "execution_count": 80,
   "metadata": {},
   "outputs": [
    {
     "name": "stdout",
     "output_type": "stream",
     "text": [
      "Before:\n",
      "1.0\n",
      "After:\n",
      "0.9416666666666667\n"
     ]
    }
   ],
   "source": [
    "nonlinear_clf = MLPClassifier(hidden_layer_sizes = 128, activation = \"relu\")\n",
    "#nonlinear_clf = SVC(kernel = \"linear\")\n",
    "#nonlinear_clf = SGDClassifier(loss = \"modified_huber\", verbose = 0, max_iter = 5000, fit_intercept = True, class_weight = \"balanced\", penalty = \"l2\")\n",
    "print(\"Before:\")\n",
    "nonlinear_clf.fit(X_train, Y_train)\n",
    "print(nonlinear_clf.score(X_dev, Y_dev))\n",
    "\n",
    "print(\"After:\")\n",
    "nonlinear_clf = MLPClassifier(hidden_layer_sizes = 128, activation = \"relu\")\n",
    "nonlinear_clf.fit(X_trained_cleaned, Y_train)\n",
    "print(nonlinear_clf.score(X_dev_cleaned, Y_dev))"
   ]
  },
  {
   "cell_type": "code",
   "execution_count": null,
   "metadata": {},
   "outputs": [],
   "source": []
  }
 ],
 "metadata": {
  "kernelspec": {
   "display_name": "Python 3",
   "language": "python",
   "name": "python3"
  },
  "language_info": {
   "codemirror_mode": {
    "name": "ipython",
    "version": 3
   },
   "file_extension": ".py",
   "mimetype": "text/x-python",
   "name": "python",
   "nbconvert_exporter": "python",
   "pygments_lexer": "ipython3",
   "version": "3.6.9"
  }
 },
 "nbformat": 4,
 "nbformat_minor": 1
}
